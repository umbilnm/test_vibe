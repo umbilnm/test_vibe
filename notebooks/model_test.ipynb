{
 "cells": [
  {
   "cell_type": "code",
   "execution_count": 150,
   "metadata": {},
   "outputs": [
    {
     "name": "stderr",
     "output_type": "stream",
     "text": [
      "/home/umbilnm/test_vibe/.venv/lib/python3.11/site-packages/torchvision/models/_utils.py:208: UserWarning: The parameter 'pretrained' is deprecated since 0.13 and may be removed in the future, please use 'weights' instead.\n",
      "  warnings.warn(\n",
      "/home/umbilnm/test_vibe/.venv/lib/python3.11/site-packages/torchvision/models/_utils.py:223: UserWarning: Arguments other than a weight enum or `None` for 'weights' are deprecated since 0.13 and may be removed in the future. The current behavior is equivalent to passing `weights=ResNet18_Weights.IMAGENET1K_V1`. You can also use `weights=ResNet18_Weights.DEFAULT` to get the most up-to-date weights.\n",
      "  warnings.warn(msg)\n"
     ]
    }
   ],
   "source": [
    "import torch\n",
    "from torchvision import datasets, transforms\n",
    "from torchvision import models\n",
    "from torchmetrics import Accuracy\n",
    "model = models.resnet18(pretrained=True)\n",
    "for param in model.parameters():\n",
    "    param.requires_grad = False\n",
    "num_classes = 2 \n",
    "new_classifier = torch.nn.Sequential(\n",
    "    torch.nn.Linear(in_features=512, out_features=num_classes),\n",
    "    torch.nn.Softmax() \n",
    ")\n",
    "\n",
    "model.fc = new_classifier"
   ]
  },
  {
   "cell_type": "code",
   "execution_count": 151,
   "metadata": {},
   "outputs": [],
   "source": [
    "data_path = '/home/umbilnm/test_vibe/dataset'\n",
    "transformations = transforms.Compose([\n",
    "    transforms.Resize(256),\n",
    "    transforms.CenterCrop(400),\n",
    "    transforms.ToTensor(),\n",
    "    transforms.Normalize([0.485, 0.456, 0.406], [0.229, 0.224, 0.225]),\n",
    "])\n",
    "dataset = datasets.ImageFolder(root=data_path, transform=transformations)\n",
    "train_size = int(0.7 * len(dataset))\n",
    "test_size = len(dataset) - train_size\n",
    "\n",
    "train_dataset, test_dataset = torch.utils.data.random_split(dataset, [train_size, test_size])\n",
    "train_loader = torch.utils.data.DataLoader(train_dataset, batch_size=16, shuffle=True)\n",
    "test_loader = torch.utils.data.DataLoader(test_dataset, batch_size=16, shuffle=False)"
   ]
  },
  {
   "cell_type": "code",
   "execution_count": 139,
   "metadata": {},
   "outputs": [
    {
     "name": "stdout",
     "output_type": "stream",
     "text": [
      "Epoch  1\n",
      "Train Loss: 0.8263, Train Accuracy: 0.59\n",
      "Test Loss: 0.6781, Test Accuracy: 0.47\n",
      "---------------------------------\n",
      "Epoch  2\n",
      "Train Loss: 0.6449, Train Accuracy: 0.61\n",
      "Test Loss: 0.6088, Test Accuracy: 0.77\n",
      "---------------------------------\n",
      "Epoch  3\n",
      "Train Loss: 0.6793, Train Accuracy: 0.79\n",
      "Test Loss: 0.5648, Test Accuracy: 0.87\n",
      "---------------------------------\n",
      "Epoch  4\n",
      "Train Loss: 0.5324, Train Accuracy: 0.84\n",
      "Test Loss: 0.5297, Test Accuracy: 0.93\n",
      "---------------------------------\n",
      "Epoch  5\n",
      "Train Loss: 0.5182, Train Accuracy: 0.86\n",
      "Test Loss: 0.4919, Test Accuracy: 0.97\n",
      "---------------------------------\n",
      "Epoch  6\n",
      "Train Loss: 0.4522, Train Accuracy: 0.96\n",
      "Test Loss: 0.4741, Test Accuracy: 1.00\n",
      "---------------------------------\n",
      "Epoch  7\n",
      "Train Loss: 0.4282, Train Accuracy: 0.97\n",
      "Test Loss: 0.4525, Test Accuracy: 1.00\n",
      "---------------------------------\n",
      "Epoch  8\n",
      "Train Loss: 0.4319, Train Accuracy: 0.96\n",
      "Test Loss: 0.4277, Test Accuracy: 0.97\n",
      "---------------------------------\n",
      "Epoch  9\n",
      "Train Loss: 0.5355, Train Accuracy: 0.90\n",
      "Test Loss: 0.4148, Test Accuracy: 0.97\n",
      "---------------------------------\n",
      "Epoch  10\n",
      "Train Loss: 0.4327, Train Accuracy: 0.96\n",
      "Test Loss: 0.4325, Test Accuracy: 1.00\n",
      "---------------------------------\n"
     ]
    }
   ],
   "source": [
    "criterion = torch.nn.CrossEntropyLoss()\n",
    "optimizer = torch.optim.Adam(model.parameters(), lr=0.001)\n",
    "n_epochs = 10\n",
    "for epoch in range(n_epochs):\n",
    "    print('Epoch ', epoch+1)\n",
    "    accuracy_metric = Accuracy(task='binary')\n",
    "    train_accuracy = Accuracy(task='binary')\n",
    "    model.train()\n",
    "    for images, labels in train_loader:\n",
    "        predictions = model(images)\n",
    "        loss = criterion(predictions, labels)\n",
    "        train_accuracy.update(predictions.argmax(1), labels)\n",
    "        loss.backward()\n",
    "        optimizer.step()\n",
    "        optimizer.zero_grad()\n",
    "    print(f'Train Loss: {loss.item():.4f}, Train Accuracy: {train_accuracy.compute():.2f}')\n",
    "\n",
    "    model.eval()\n",
    "    for images, labels in test_loader:\n",
    "        with torch.no_grad():\n",
    "            \n",
    "            probs = model(images)\n",
    "            loss = criterion(probs, labels)\n",
    "            accuracy_metric.update(probs.argmax(1), labels)\n",
    "            \n",
    "    print(f'Test Loss: {loss.item():.4f}, Test Accuracy: {accuracy_metric.compute():.2f}')\n",
    "    print('---------------------------------')"
   ]
  },
  {
   "cell_type": "code",
   "execution_count": 140,
   "metadata": {},
   "outputs": [],
   "source": [
    "for images, labels in test_loader:\n",
    "    with torch.no_grad():\n",
    "        \n",
    "        predictions = model(images).argmax(1)\n",
    "        accuracy_metric.update(predictions, labels)\n"
   ]
  },
  {
   "cell_type": "code",
   "execution_count": 141,
   "metadata": {},
   "outputs": [],
   "source": [
    "torch.save(model.state_dict(), '/home/umbilnm/test_vibe/models/model.pt')"
   ]
  },
  {
   "cell_type": "code",
   "execution_count": 105,
   "metadata": {},
   "outputs": [
    {
     "data": {
      "text/plain": [
       "tensor([[ 0.0563,  0.0059,  0.0046,  ..., -0.0194,  0.0047,  0.0276],\n",
       "        [-0.0152,  0.0173, -0.0139,  ...,  0.0413, -0.0237, -0.0210]])"
      ]
     },
     "execution_count": 105,
     "metadata": {},
     "output_type": "execute_result"
    }
   ],
   "source": [
    "model.state_dict()['fc.0.weight']"
   ]
  },
  {
   "cell_type": "markdown",
   "metadata": {},
   "source": [
    "### Тест с переписками"
   ]
  },
  {
   "cell_type": "code",
   "execution_count": 157,
   "metadata": {},
   "outputs": [
    {
     "data": {
      "text/plain": [
       "{'chat': 0, 'dating': 1, 'photos': 2}"
      ]
     },
     "execution_count": 157,
     "metadata": {},
     "output_type": "execute_result"
    }
   ],
   "source": [
    "dataset.class_to_idx"
   ]
  },
  {
   "cell_type": "code",
   "execution_count": 159,
   "metadata": {},
   "outputs": [
    {
     "name": "stderr",
     "output_type": "stream",
     "text": [
      "/home/umbilnm/test_vibe/.venv/lib/python3.11/site-packages/torchvision/models/_utils.py:208: UserWarning: The parameter 'pretrained' is deprecated since 0.13 and may be removed in the future, please use 'weights' instead.\n",
      "  warnings.warn(\n",
      "/home/umbilnm/test_vibe/.venv/lib/python3.11/site-packages/torchvision/models/_utils.py:223: UserWarning: Arguments other than a weight enum or `None` for 'weights' are deprecated since 0.13 and may be removed in the future. The current behavior is equivalent to passing `weights=ResNet18_Weights.IMAGENET1K_V1`. You can also use `weights=ResNet18_Weights.DEFAULT` to get the most up-to-date weights.\n",
      "  warnings.warn(msg)\n"
     ]
    },
    {
     "name": "stdout",
     "output_type": "stream",
     "text": [
      "Epoch  1\n",
      "Train Loss: 1.1756, Train Accuracy: 0.22\n",
      "Test Loss: 1.0455, Test Accuracy: 0.65\n",
      "---------------------------------\n",
      "Epoch  2\n",
      "Train Loss: 1.0548, Train Accuracy: 0.54\n",
      "Test Loss: 0.9211, Test Accuracy: 0.65\n",
      "---------------------------------\n",
      "Epoch  3\n",
      "Train Loss: 0.9253, Train Accuracy: 0.62\n",
      "Test Loss: 0.8649, Test Accuracy: 1.00\n",
      "---------------------------------\n",
      "Epoch  4\n",
      "Train Loss: 0.8812, Train Accuracy: 0.95\n",
      "Test Loss: 0.8069, Test Accuracy: 1.00\n",
      "---------------------------------\n",
      "Epoch  5\n",
      "Train Loss: 0.9217, Train Accuracy: 0.90\n",
      "Test Loss: 0.7288, Test Accuracy: 1.00\n",
      "---------------------------------\n",
      "Epoch  6\n",
      "Train Loss: 0.7836, Train Accuracy: 0.96\n",
      "Test Loss: 0.7052, Test Accuracy: 1.00\n",
      "---------------------------------\n",
      "Epoch  7\n",
      "Train Loss: 0.9333, Train Accuracy: 0.97\n",
      "Test Loss: 0.6669, Test Accuracy: 1.00\n",
      "---------------------------------\n",
      "Epoch  8\n",
      "Train Loss: 0.8206, Train Accuracy: 0.99\n",
      "Test Loss: 0.6624, Test Accuracy: 1.00\n",
      "---------------------------------\n",
      "Epoch  9\n",
      "Train Loss: 0.7969, Train Accuracy: 0.96\n",
      "Test Loss: 0.6628, Test Accuracy: 1.00\n",
      "---------------------------------\n",
      "Epoch  10\n",
      "Train Loss: 0.7241, Train Accuracy: 1.00\n",
      "Test Loss: 0.6207, Test Accuracy: 1.00\n",
      "---------------------------------\n"
     ]
    }
   ],
   "source": [
    "model = models.resnet18(pretrained=True)\n",
    "for param in model.parameters():\n",
    "    param.requires_grad = False\n",
    "num_classes = 3\n",
    "new_classifier = torch.nn.Sequential(\n",
    "    torch.nn.Linear(in_features=512, out_features=num_classes),\n",
    "    torch.nn.Softmax() \n",
    ")\n",
    "\n",
    "model.fc = new_classifier\n",
    "data_path = '/home/umbilnm/test_vibe/dataset'\n",
    "transformations = transforms.Compose([\n",
    "    transforms.Resize(256),\n",
    "    transforms.CenterCrop(400),\n",
    "    transforms.ToTensor(),\n",
    "    transforms.Normalize([0.485, 0.456, 0.406], [0.229, 0.224, 0.225]),\n",
    "])\n",
    "dataset = datasets.ImageFolder(root=data_path, transform=transformations)\n",
    "train_size = int(0.7 * len(dataset))\n",
    "test_size = len(dataset) - train_size\n",
    "\n",
    "train_dataset, test_dataset = torch.utils.data.random_split(dataset, [train_size, test_size])\n",
    "train_loader = torch.utils.data.DataLoader(train_dataset, batch_size=16, shuffle=True)\n",
    "test_loader = torch.utils.data.DataLoader(test_dataset, batch_size=16, shuffle=False)\n",
    "criterion = torch.nn.CrossEntropyLoss()\n",
    "optimizer = torch.optim.Adam(model.parameters(), lr=0.001)\n",
    "n_epochs = 10\n",
    "for epoch in range(n_epochs):\n",
    "    print('Epoch ', epoch+1)\n",
    "    accuracy_metric = Accuracy(task='multiclass', num_classes=3)\n",
    "    train_accuracy = Accuracy(task='multiclass', num_classes=3)\n",
    "    model.train()\n",
    "    for images, labels in train_loader:\n",
    "        predictions = model(images)\n",
    "        loss = criterion(predictions, labels)\n",
    "        train_accuracy.update(predictions.argmax(1), labels)\n",
    "        loss.backward()\n",
    "        optimizer.step()\n",
    "        optimizer.zero_grad()\n",
    "    print(f'Train Loss: {loss.item():.4f}, Train Accuracy: {train_accuracy.compute():.2f}')\n",
    "\n",
    "    model.eval()\n",
    "    for images, labels in test_loader:\n",
    "        with torch.no_grad():\n",
    "            \n",
    "            probs = model(images)\n",
    "            loss = criterion(probs, labels)\n",
    "            accuracy_metric.update(probs.argmax(1), labels)\n",
    "            \n",
    "    print(f'Test Loss: {loss.item():.4f}, Test Accuracy: {accuracy_metric.compute():.2f}')\n",
    "    print('---------------------------------')"
   ]
  },
  {
   "cell_type": "code",
   "execution_count": 160,
   "metadata": {},
   "outputs": [],
   "source": [
    "torch.save(model.state_dict(), '/home/umbilnm/test_vibe/models/model_multiclass.pt')"
   ]
  },
  {
   "cell_type": "code",
   "execution_count": 180,
   "metadata": {},
   "outputs": [],
   "source": [
    "import json \n",
    "idx_to_class = {0:'Переписка', 1:'Анкета', 2:'Фото'}\n",
    "with open('../models/idx_to_class.json', 'w') as f:\n",
    "    json.dump(idx_to_class, f)"
   ]
  },
  {
   "cell_type": "code",
   "execution_count": 179,
   "metadata": {},
   "outputs": [
    {
     "data": {
      "text/plain": [
       "{'chat': 0, 'dating': 1, 'photos': 2}"
      ]
     },
     "execution_count": 179,
     "metadata": {},
     "output_type": "execute_result"
    }
   ],
   "source": [
    "class_to_idx"
   ]
  },
  {
   "cell_type": "code",
   "execution_count": 181,
   "metadata": {},
   "outputs": [],
   "source": [
    "with open('../models/idx_to_class.json', 'r') as f:\n",
    "    class_to_idx = json.load(f)"
   ]
  },
  {
   "cell_type": "code",
   "execution_count": 182,
   "metadata": {},
   "outputs": [
    {
     "data": {
      "text/plain": [
       "{'0': 'Переписка', '1': 'Анкета', '2': 'Фото'}"
      ]
     },
     "execution_count": 182,
     "metadata": {},
     "output_type": "execute_result"
    }
   ],
   "source": [
    "class_to_idx"
   ]
  },
  {
   "cell_type": "code",
   "execution_count": null,
   "metadata": {},
   "outputs": [],
   "source": []
  }
 ],
 "metadata": {
  "kernelspec": {
   "display_name": ".venv",
   "language": "python",
   "name": "python3"
  },
  "language_info": {
   "codemirror_mode": {
    "name": "ipython",
    "version": 3
   },
   "file_extension": ".py",
   "mimetype": "text/x-python",
   "name": "python",
   "nbconvert_exporter": "python",
   "pygments_lexer": "ipython3",
   "version": "3.11.6"
  }
 },
 "nbformat": 4,
 "nbformat_minor": 2
}
