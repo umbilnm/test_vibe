{
 "cells": [
  {
   "cell_type": "code",
   "execution_count": 3,
   "metadata": {},
   "outputs": [],
   "source": [
    "import re\n",
    "\n",
    "text = \"аылфда вфлдлдф, Юлия, 20 москва 7 км апыщзпщзфпщз шщпфызщ, ашфыщдаз\"\n",
    "\n",
    "matches = re.findall(r\" (.*?), (\\d+), (\\w+), (\\d+) км(.*?)\", text)\n",
    "\n",
    "for match in matches:\n",
    "  print(match[0])\n"
   ]
  },
  {
   "cell_type": "code",
   "execution_count": 25,
   "metadata": {},
   "outputs": [
    {
     "data": {
      "text/plain": [
       "(None, None, 'Аня, 20 dafgag 7 км', 'Аня', '20', ' dafgag ', '7')"
      ]
     },
     "execution_count": 25,
     "metadata": {},
     "output_type": "execute_result"
    }
   ],
   "source": [
    "twinby_pattern = re.compile(r\"(Полная информация|Совместимость)|(, (?P<name>\\w+), (?P<age>\\d{2}))|((?P<name>\\w+), (?P<age>\\d{2})(.*?)(\\d+) км)\")\n",
    "re.match(twinby_pattern, 'Аня, 20 dafgag 7 км, пфп')\n"
   ]
  },
  {
   "cell_type": "code",
   "execution_count": null,
   "metadata": {},
   "outputs": [],
   "source": []
  }
 ],
 "metadata": {
  "kernelspec": {
   "display_name": ".venv",
   "language": "python",
   "name": "python3"
  },
  "language_info": {
   "codemirror_mode": {
    "name": "ipython",
    "version": 3
   },
   "file_extension": ".py",
   "mimetype": "text/x-python",
   "name": "python",
   "nbconvert_exporter": "python",
   "pygments_lexer": "ipython3",
   "version": "3.11.6"
  }
 },
 "nbformat": 4,
 "nbformat_minor": 2
}
